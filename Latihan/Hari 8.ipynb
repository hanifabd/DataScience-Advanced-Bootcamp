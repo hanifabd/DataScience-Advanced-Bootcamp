{
 "cells": [
  {
   "cell_type": "code",
   "execution_count": 1,
   "metadata": {},
   "outputs": [],
   "source": [
    "import tweepy as tp\n",
    "import re\n",
    "import pandas as pd\n",
    "import matplotlib.pyplot as plt\n",
    "import numpy as np"
   ]
  },
  {
   "cell_type": "code",
   "execution_count": 2,
   "metadata": {},
   "outputs": [],
   "source": [
    "consumer_key = 'tt6FGjUVqVV4Bga8t2a3rmRR7'\n",
    "consumer_secret = 'YSZFKghu0qeP1AVgW7u4stwVFWjBw5zNtOOdOGWw1XOs3hUjlP'\n",
    "access_token = '1288033810722852869-AGEa1bnXoU4YN4BeBEAnhA2bBUNLxG'\n",
    "access_token_secret = 'bdLQrVlDKDT0eDNGmPMKif22EHm0eGaQRKAnnyaLUizCz'"
   ]
  },
  {
   "cell_type": "code",
   "execution_count": 3,
   "metadata": {},
   "outputs": [],
   "source": [
    "auth = tp.OAuthHandler(consumer_key, consumer_secret)\n",
    "auth.set_access_token(access_token, access_token_secret)\n",
    "api = tp.API(auth)"
   ]
  },
  {
   "cell_type": "code",
   "execution_count": 4,
   "metadata": {},
   "outputs": [],
   "source": [
    "topik_1 = 'jouska'\n",
    "topik_2 = 'anies baswedan'\n",
    "topik_3 = 'menteri kesehatan'\n",
    "\n",
    "date_since = '2020-07-27'"
   ]
  },
  {
   "cell_type": "code",
   "execution_count": 5,
   "metadata": {},
   "outputs": [],
   "source": [
    "ns1 = topik_1 + \" -filter:retweets\"\n",
    "ns2 = topik_2 + \" -filter:retweets\"\n",
    "ns3 = topik_3 + \" -filter:retweets\""
   ]
  },
  {
   "cell_type": "code",
   "execution_count": 6,
   "metadata": {},
   "outputs": [],
   "source": [
    "tweets_1 = tp.Cursor(api.search, q=ns1, lang=\"id\", since=date_since, tweet_mode=\"extended\").items(1000)\n",
    "tweets_2 = tp.Cursor(api.search, q=ns2, lang=\"id\", since=date_since, tweet_mode=\"extended\").items(1000)\n",
    "tweets_3 = tp.Cursor(api.search, q=ns3, lang=\"id\", since=date_since, tweet_mode=\"extended\").items(1000)"
   ]
  },
  {
   "cell_type": "code",
   "execution_count": 7,
   "metadata": {},
   "outputs": [],
   "source": [
    "items1 = []\n",
    "items2 = []\n",
    "items3 = []\n",
    "\n",
    "for tweet in tweets_1:\n",
    "    item = []\n",
    "    item.append (' '.join(re.sub(\"(@[A-Za-z0-9]+)|([^0-9A-Za-z \\t])|(\\w+:\\/\\/\\S+)\", \" \", tweet.full_text).split()))\n",
    "    items1.append(item)\n",
    "    \n",
    "for tweet in tweets_2:\n",
    "    item = []\n",
    "    item.append (' '.join(re.sub(\"(@[A-Za-z0-9]+)|([^0-9A-Za-z \\t])|(\\w+:\\/\\/\\S+)\", \" \", tweet.full_text).split()))\n",
    "    items2.append(item)\n",
    "    \n",
    "for tweet in tweets_3:\n",
    "    item = []\n",
    "    item.append (' '.join(re.sub(\"(@[A-Za-z0-9]+)|([^0-9A-Za-z \\t])|(\\w+:\\/\\/\\S+)\", \" \", tweet.full_text).split()))\n",
    "    items3.append(item)"
   ]
  },
  {
   "cell_type": "code",
   "execution_count": 8,
   "metadata": {
    "scrolled": true
   },
   "outputs": [
    {
     "data": {
      "text/plain": [
       "141"
      ]
     },
     "execution_count": 8,
     "metadata": {},
     "output_type": "execute_result"
    }
   ],
   "source": [
    "len(items3)"
   ]
  },
  {
   "cell_type": "code",
   "execution_count": 9,
   "metadata": {},
   "outputs": [],
   "source": [
    "pd.options.display.max_colwidth = 300"
   ]
  },
  {
   "cell_type": "code",
   "execution_count": 10,
   "metadata": {},
   "outputs": [],
   "source": [
    "df1 = pd.DataFrame(data=items1, columns=['tweet'])\n",
    "df2 = pd.DataFrame(data=items2, columns=['tweet'])\n",
    "df3 = pd.DataFrame(data=items3, columns=['tweet'])"
   ]
  },
  {
   "cell_type": "code",
   "execution_count": 16,
   "metadata": {},
   "outputs": [
    {
     "data": {
      "text/html": [
       "<div>\n",
       "<style scoped>\n",
       "    .dataframe tbody tr th:only-of-type {\n",
       "        vertical-align: middle;\n",
       "    }\n",
       "\n",
       "    .dataframe tbody tr th {\n",
       "        vertical-align: top;\n",
       "    }\n",
       "\n",
       "    .dataframe thead th {\n",
       "        text-align: right;\n",
       "    }\n",
       "</style>\n",
       "<table border=\"1\" class=\"dataframe\">\n",
       "  <thead>\n",
       "    <tr style=\"text-align: right;\">\n",
       "      <th></th>\n",
       "      <th>tweet</th>\n",
       "    </tr>\n",
       "  </thead>\n",
       "  <tbody>\n",
       "    <tr>\n",
       "      <th>0</th>\n",
       "      <td>KASUS JOUSKA PT Amarta Janus Indonesia Ternyata Awalnya Adalah Perusahaan Konstruksi dan Properti</td>\n",
       "    </tr>\n",
       "    <tr>\n",
       "      <th>1</th>\n",
       "      <td>iya emang achievement banget sih Mungkin pengingat untuk diri sendiri biar kalaupun mau show off achievement jangan bikin terlalu hard selling model kayak gitu Atau mas TNP harusnya hire copywriternya kontennya Jouska hahahaha</td>\n",
       "    </tr>\n",
       "    <tr>\n",
       "      <th>2</th>\n",
       "      <td>Yuk rame2 report IG Jouska yuk Yang penting IG Jouska take down dulu Kita bantu para korbanjouska dan supaya tidak ada korbanjouska lagi Urusan dibuka lagi pikir ntar aja Mumpung report IGnya gratis Ini permohonan dari salah satu grup korban Thank you</td>\n",
       "    </tr>\n",
       "    <tr>\n",
       "      <th>3</th>\n",
       "      <td>Sejauh ini kasus Jouska belum dipolisikan memang sih Polri anggota Satgas Waspada Investasi Aplikasi dan Twitter Jouska masih ada Infografik WaktunyaLokadata</td>\n",
       "    </tr>\n",
       "    <tr>\n",
       "      <th>4</th>\n",
       "      <td>Dendam Apa yang Disimpan CNBC terhadap Jouska Tren</td>\n",
       "    </tr>\n",
       "    <tr>\n",
       "      <th>...</th>\n",
       "      <td>...</td>\n",
       "    </tr>\n",
       "    <tr>\n",
       "      <th>714</th>\n",
       "      <td>Seorang karyawan berusia 28 tahun yang bekerja di PT Djakarta Lloyd Persero meninggal lantaran terinfeksi virus Covid</td>\n",
       "    </tr>\n",
       "    <tr>\n",
       "      <th>715</th>\n",
       "      <td>Setuju Value amp brandingnya id ini sangat perfect luar biasa Tau masalah dana darurat investasi dll pun juga dari mereka</td>\n",
       "    </tr>\n",
       "    <tr>\n",
       "      <th>716</th>\n",
       "      <td>Gausah repot2 dijelasin bukan urusan kita hidupmu dan keluargmu jalani aja dgn sabar dan tabah Mngkin ini salh satu cara Tuhan mencintai hamba Nya</td>\n",
       "    </tr>\n",
       "    <tr>\n",
       "      <th>717</th>\n",
       "      <td>walaupun ternyata jouska begitu tapi karna jouska juga gue melek finansial</td>\n",
       "    </tr>\n",
       "    <tr>\n",
       "      <th>718</th>\n",
       "      <td>Sblmnya mon maap y mas gw gkmbela spa cma gw jg prmpuan Situ blm prnh ya ngrasain bban mental beratnya kyk apa Cba deh blajar lgi biar paham apa yg lu tulis biar gk nykitin org Menurut lu mngkin biasa aja buat yg ngjalanin berat woi yg tabah mbaknya Bntar lgi</td>\n",
       "    </tr>\n",
       "  </tbody>\n",
       "</table>\n",
       "<p>719 rows × 1 columns</p>\n",
       "</div>"
      ],
      "text/plain": [
       "                                                                                                                                                                                                                                                                   tweet\n",
       "0                                                                                                                                                                      KASUS JOUSKA PT Amarta Janus Indonesia Ternyata Awalnya Adalah Perusahaan Konstruksi dan Properti\n",
       "1                                     iya emang achievement banget sih Mungkin pengingat untuk diri sendiri biar kalaupun mau show off achievement jangan bikin terlalu hard selling model kayak gitu Atau mas TNP harusnya hire copywriternya kontennya Jouska hahahaha\n",
       "2            Yuk rame2 report IG Jouska yuk Yang penting IG Jouska take down dulu Kita bantu para korbanjouska dan supaya tidak ada korbanjouska lagi Urusan dibuka lagi pikir ntar aja Mumpung report IGnya gratis Ini permohonan dari salah satu grup korban Thank you\n",
       "3                                                                                                          Sejauh ini kasus Jouska belum dipolisikan memang sih Polri anggota Satgas Waspada Investasi Aplikasi dan Twitter Jouska masih ada Infografik WaktunyaLokadata\n",
       "4                                                                                                                                                                                                                     Dendam Apa yang Disimpan CNBC terhadap Jouska Tren\n",
       "..                                                                                                                                                                                                                                                                   ...\n",
       "714                                                                                                                                                Seorang karyawan berusia 28 tahun yang bekerja di PT Djakarta Lloyd Persero meninggal lantaran terinfeksi virus Covid\n",
       "715                                                                                                                                            Setuju Value amp brandingnya id ini sangat perfect luar biasa Tau masalah dana darurat investasi dll pun juga dari mereka\n",
       "716                                                                                                                   Gausah repot2 dijelasin bukan urusan kita hidupmu dan keluargmu jalani aja dgn sabar dan tabah Mngkin ini salh satu cara Tuhan mencintai hamba Nya\n",
       "717                                                                                                                                                                                           walaupun ternyata jouska begitu tapi karna jouska juga gue melek finansial\n",
       "718  Sblmnya mon maap y mas gw gkmbela spa cma gw jg prmpuan Situ blm prnh ya ngrasain bban mental beratnya kyk apa Cba deh blajar lgi biar paham apa yg lu tulis biar gk nykitin org Menurut lu mngkin biasa aja buat yg ngjalanin berat woi yg tabah mbaknya Bntar lgi\n",
       "\n",
       "[719 rows x 1 columns]"
      ]
     },
     "execution_count": 16,
     "metadata": {},
     "output_type": "execute_result"
    }
   ],
   "source": [
    "df1"
   ]
  },
  {
   "cell_type": "code",
   "execution_count": 12,
   "metadata": {},
   "outputs": [],
   "source": [
    "pos_list= open(\"kata_positif.txt\",\"r\")\n",
    "pos_kata = pos_list.readlines()\n",
    "neg_list= open(\"kata_negatif.txt\",\"r\")\n",
    "neg_kata = neg_list.readlines()"
   ]
  },
  {
   "cell_type": "code",
   "execution_count": 35,
   "metadata": {},
   "outputs": [],
   "source": [
    "s1 = []\n",
    "s2 = []\n",
    "s3 = []"
   ]
  },
  {
   "cell_type": "code",
   "execution_count": 36,
   "metadata": {},
   "outputs": [],
   "source": [
    "for item in items1:\n",
    "    count_p = 0\n",
    "    count_n = 0\n",
    "    for kata_pos in pos_kata:\n",
    "        if kata_pos.strip() in item[0]:\n",
    "            count_p +=1\n",
    "    for kata_neg in neg_kata:\n",
    "        if kata_neg.strip() in item[0]:\n",
    "            count_n +=1\n",
    "    s = count_p - count_n\n",
    "    s1.append(s)\n",
    "    \n",
    "for item in items2:\n",
    "    count_p = 0\n",
    "    count_n = 0\n",
    "    for kata_pos in pos_kata:\n",
    "        if kata_pos.strip() in item[0]:\n",
    "            count_p +=1\n",
    "    for kata_neg in neg_kata:\n",
    "        if kata_neg.strip() in item[0]:\n",
    "            count_n +=1\n",
    "    s = count_p - count_n\n",
    "    s2.append(s)\n",
    "    \n",
    "for item in items3:\n",
    "    count_p = 0\n",
    "    count_n = 0\n",
    "    for kata_pos in pos_kata:\n",
    "        if kata_pos.strip() in item[0]:\n",
    "            count_p +=1\n",
    "    for kata_neg in neg_kata:\n",
    "        if kata_neg.strip() in item[0]:\n",
    "            count_n +=1\n",
    "    s = count_p - count_n\n",
    "    s3.append(s)"
   ]
  },
  {
   "cell_type": "code",
   "execution_count": 40,
   "metadata": {},
   "outputs": [],
   "source": [
    "df1[\"sentiment\"] = s1\n",
    "df2[\"sentiment\"] = s2\n",
    "df3[\"sentiment\"] = s3"
   ]
  },
  {
   "cell_type": "code",
   "execution_count": 76,
   "metadata": {},
   "outputs": [
    {
     "data": {
      "image/png": "[encoded data removed]",
      "text/plain": [
       "<Figure size 1296x288 with 3 Axes>"
      ]
     },
     "metadata": {
      "needs_background": "light"
     },
     "output_type": "display_data"
    }
   ],
   "source": [
    "labels1, counts1 = np.unique(df1[\"sentiment\"], return_counts=True)\n",
    "labels2, counts2 = np.unique(df2[\"sentiment\"], return_counts=True)\n",
    "labels3, counts3 = np.unique(df3[\"sentiment\"], return_counts=True)\n",
    "\n",
    "fig, ax = plt.subplots(figsize=(18,4), nrows=1, ncols=3)\n",
    "ax[0].bar(labels1, counts1, align='center', color='r', label='Penipuan oleh Jouska')\n",
    "ax[1].bar(labels2, counts2, align='center', color='b', label='Gubernur Jakart, Anies Baswedan')\n",
    "ax[2].bar(labels3, counts3, align='center', color='y', label='MenKes, Pak Terawan Agus Putranto')\n",
    "ax[0].set_title('Sentimen pada Penipuan oleh Jouska')\n",
    "ax[1].set_title('Sentimen pada Gubernur Jakarta, Anies Baswedan')\n",
    "ax[2].set_title('Sentimen pada MenKes, Pak Terawan Agus Putranto')\n",
    "plt.show()"
   ]
  },
  {
   "cell_type": "code",
   "execution_count": 79,
   "metadata": {},
   "outputs": [
    {
     "name": "stdout",
     "output_type": "stream",
     "text": [
      "Sentimen pada Penipuan oleh Jouska\n",
      "Nilai rata-rata : -0.6286509040333796\n",
      "Standar deviasi : 2.1559020105205406\n",
      "Kesimpulan      : Sentimen pada mayoritas tweet terhadap penipuan yang dilakukan oleh jouska cenderung negatif\n",
      "\n",
      "\n",
      "Sentimen pada Gubernur Jakarta, Anies Baswedan\n",
      "Nilai rata-rata : -0.9331797235023042\n",
      "Standar deviasi : 1.993689475184093\n",
      "Kesimpulan      : Sentimen pada mayoritas tweet terhadap Gubernur Jakarta, Anies Baswedan cenderung negatif\n",
      "\n",
      "\n",
      "Sentimen pada MenKes, Pak Terawan Agus Putranto\n",
      "Nilai rata-rata : 2.028368794326241\n",
      "Standar deviasi : 2.120294581471571\n",
      "Kesimpulan      : Sentimen pada mayoritas tweet terhadap Menteri Kesehata, Terawan Agus Putranto cenderung positif\n",
      "\n",
      "\n"
     ]
    }
   ],
   "source": [
    "print('Sentimen pada Penipuan oleh Jouska')\n",
    "print('Nilai rata-rata : '+str(np.mean(df1['sentiment'])))\n",
    "print('Standar deviasi : '+str(np.std(df1['sentiment'])))\n",
    "print('Kesimpulan      : Sentimen pada mayoritas tweet terhadap penipuan yang dilakukan oleh jouska cenderung negatif')\n",
    "print('\\n')\n",
    "\n",
    "print('Sentimen pada Gubernur Jakarta, Anies Baswedan')\n",
    "print('Nilai rata-rata : '+str(np.mean(df2['sentiment'])))\n",
    "print('Standar deviasi : '+str(np.std(df2['sentiment'])))\n",
    "print('Kesimpulan      : Sentimen pada mayoritas tweet terhadap Gubernur Jakarta, Anies Baswedan cenderung negatif')\n",
    "print('\\n')\n",
    "\n",
    "print('Sentimen pada MenKes, Pak Terawan Agus Putranto')\n",
    "print('Nilai rata-rata : '+str(np.mean(df3['sentiment'])))\n",
    "print('Standar deviasi : '+str(np.std(df3['sentiment'])))\n",
    "print('Kesimpulan      : Sentimen pada mayoritas tweet terhadap Menteri Kesehata, Terawan Agus Putranto cenderung positif')\n",
    "print('\\n')"
   ]
  }
 ],
 "metadata": {
  "kernelspec": {
   "display_name": "Python 3",
   "language": "python",
   "name": "python3"
  },
  "language_info": {
   "codemirror_mode": {
    "name": "ipython",
    "version": 3
   },
   "file_extension": ".py",
   "mimetype": "text/x-python",
   "name": "python",
   "nbconvert_exporter": "python",
   "pygments_lexer": "ipython3",
   "version": "3.7.6"
  }
 },
 "nbformat": 4,
 "nbformat_minor": 4
}
