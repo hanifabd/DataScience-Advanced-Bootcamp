{
 "cells": [
  {
   "cell_type": "code",
   "execution_count": 1,
   "metadata": {},
   "outputs": [],
   "source": [
    "import tweepy as tp\n",
    "import re\n",
    "import pandas as pd\n",
    "import matplotlib.pyplot as plt\n",
    "import numpy as np"
   ]
  },
  {
   "cell_type": "code",
   "execution_count": 2,
   "metadata": {},
   "outputs": [],
   "source": [
    "consumer_key = 'tt6FGjUVqVV4Bga8t2a3rmRR7'\n",
    "consumer_secret = 'YSZFKghu0qeP1AVgW7u4stwVFWjBw5zNtOOdOGWw1XOs3hUjlP'\n",
    "access_token = '1288033810722852869-AGEa1bnXoU4YN4BeBEAnhA2bBUNLxG'\n",
    "access_token_secret = 'bdLQrVlDKDT0eDNGmPMKif22EHm0eGaQRKAnnyaLUizCz'"
   ]
  },
  {
   "cell_type": "code",
   "execution_count": 3,
   "metadata": {},
   "outputs": [],
   "source": [
    "auth = tp.OAuthHandler(consumer_key, consumer_secret)\n",
    "auth.set_access_token(access_token, access_token_secret)\n",
    "api = tp.API(auth)"
   ]
  },
  {
   "cell_type": "code",
   "execution_count": 4,
   "metadata": {},
   "outputs": [],
   "source": [
    "topik_1 = 'jouska'\n",
    "topik_2 = 'anies baswedan'\n",
    "topik_3 = 'menteri kesehatan'\n",
    "\n",
    "date_since = '2020-07-27'"
   ]
  },
  {
   "cell_type": "code",
   "execution_count": 5,
   "metadata": {},
   "outputs": [],
   "source": [
    "ns1 = topik_1 + \" -filter:retweets\"\n",
    "ns2 = topik_2 + \" -filter:retweets\"\n",
    "ns3 = topik_3 + \" -filter:retweets\""
   ]
  },
  {
   "cell_type": "code",
   "execution_count": 6,
   "metadata": {},
   "outputs": [],
   "source": [
    "tweets_1 = tp.Cursor(api.search, q=ns1, lang=\"id\", since=date_since, tweet_mode=\"extended\").items(1000)\n",
    "tweets_2 = tp.Cursor(api.search, q=ns2, lang=\"id\", since=date_since, tweet_mode=\"extended\").items(1000)\n",
    "tweets_3 = tp.Cursor(api.search, q=ns3, lang=\"id\", since=date_since, tweet_mode=\"extended\").items(1000)"
   ]
  },
  {
   "cell_type": "code",
   "execution_count": 7,
   "metadata": {},
   "outputs": [],
   "source": [
    "items1 = []\n",
    "items2 = []\n",
    "items3 = []\n",
    "\n",
    "for tweet in tweets_1:\n",
    "    item = []\n",
    "    item.append (' '.join(re.sub(\"(@[A-Za-z0-9]+)|([^0-9A-Za-z \\t])|(\\w+:\\/\\/\\S+)\", \" \", tweet.full_text).split()))\n",
    "    items1.append(item)\n",
    "    \n",
    "for tweet in tweets_2:\n",
    "    item = []\n",
    "    item.append (' '.join(re.sub(\"(@[A-Za-z0-9]+)|([^0-9A-Za-z \\t])|(\\w+:\\/\\/\\S+)\", \" \", tweet.full_text).split()))\n",
    "    items2.append(item)\n",
    "    \n",
    "for tweet in tweets_3:\n",
    "    item = []\n",
    "    item.append (' '.join(re.sub(\"(@[A-Za-z0-9]+)|([^0-9A-Za-z \\t])|(\\w+:\\/\\/\\S+)\", \" \", tweet.full_text).split()))\n",
    "    items3.append(item)"
   ]
  },
  {
   "cell_type": "code",
   "execution_count": 10,
   "metadata": {
    "scrolled": true
   },
   "outputs": [
    {
     "data": {
      "text/plain": [
       "140"
      ]
     },
     "execution_count": 10,
     "metadata": {},
     "output_type": "execute_result"
    }
   ],
   "source": [
    "len(items3)"
   ]
  },
  {
   "cell_type": "code",
   "execution_count": 14,
   "metadata": {},
   "outputs": [],
   "source": [
    "pd.options.display.max_colwidth = 300"
   ]
  },
  {
   "cell_type": "code",
   "execution_count": 15,
   "metadata": {},
   "outputs": [],
   "source": [
    "df1 = pd.DataFrame(data=items1, columns=['tweet'])\n",
    "df2 = pd.DataFrame(data=items2, columns=['tweet'])\n",
    "df3 = pd.DataFrame(data=items3, columns=['tweet'])"
   ]
  },
  {
   "cell_type": "code",
   "execution_count": 17,
   "metadata": {},
   "outputs": [
    {
     "data": {
      "text/html": [
       "<div>\n",
       "<style scoped>\n",
       "    .dataframe tbody tr th:only-of-type {\n",
       "        vertical-align: middle;\n",
       "    }\n",
       "\n",
       "    .dataframe tbody tr th {\n",
       "        vertical-align: top;\n",
       "    }\n",
       "\n",
       "    .dataframe thead th {\n",
       "        text-align: right;\n",
       "    }\n",
       "</style>\n",
       "<table border=\"1\" class=\"dataframe\">\n",
       "  <thead>\n",
       "    <tr style=\"text-align: right;\">\n",
       "      <th></th>\n",
       "      <th>tweet</th>\n",
       "    </tr>\n",
       "  </thead>\n",
       "  <tbody>\n",
       "    <tr>\n",
       "      <th>0</th>\n",
       "      <td>Kutip Kita tidak bertujuan menurunkan garis karena kalau menurunkan garis berarti mengurangi testing Jadi kita tingkatkan testingnya menjangkau orang orang tanpa gejala tapi positif Jadi tujuan kita adalah menurunkan wabahnya kata Gubernur DKI Jakarta Anies Baswedan</td>\n",
       "    </tr>\n",
       "    <tr>\n",
       "      <th>1</th>\n",
       "      <td>Anies Baswedan menyatakan pihaknya telah melakukan tes Covid 19 dengan metode polymerase chain reaction PCR kepada 299 439 orang BUMNKerjaCepat</td>\n",
       "    </tr>\n",
       "    <tr>\n",
       "      <th>2</th>\n",
       "      <td>Pokoknya kalau gak HRS ya anies baswedan yang selalu salah</td>\n",
       "    </tr>\n",
       "    <tr>\n",
       "      <th>3</th>\n",
       "      <td>idha Barakallahu fiik bapak Anies Baswedan</td>\n",
       "    </tr>\n",
       "    <tr>\n",
       "      <th>4</th>\n",
       "      <td>Syukur nies Diisolasi dimana nies yg positif Coba lu tunjukkan data pasien positif jakarta dimana saja isolasinya Mana yg lu bilang sdh antisipasi sejak januari Dasar nasi aking</td>\n",
       "    </tr>\n",
       "    <tr>\n",
       "      <th>...</th>\n",
       "      <td>...</td>\n",
       "    </tr>\n",
       "    <tr>\n",
       "      <th>427</th>\n",
       "      <td>Senyap kerjanya anyep hasilnya Anies Baswedan Kita Kerja Senyap dan Sunyi</td>\n",
       "    </tr>\n",
       "    <tr>\n",
       "      <th>428</th>\n",
       "      <td>GABENER DAH BOSEN KONPERS DI PODIUM Anies Baswedan Kita Kerja Senyap dan Sunyi LEBIH JELAS HASILNYA daffa05</td>\n",
       "    </tr>\n",
       "    <tr>\n",
       "      <th>429</th>\n",
       "      <td>Mantul jiwa Tata kata nya</td>\n",
       "    </tr>\n",
       "    <tr>\n",
       "      <th>430</th>\n",
       "      <td>Kasus Positif Covid 19 Jakarta Nyaris 19 000 Orang Ini Tanggapan Anies Baswedan INDONESIA</td>\n",
       "    </tr>\n",
       "    <tr>\n",
       "      <th>431</th>\n",
       "      <td>Gubernur Anies Baswedan dan Pemprov dki jakarta dalam waktu dekat ini akan membantu para pelajar di DKI dengan memberikan mereka paket khusus internet</td>\n",
       "    </tr>\n",
       "  </tbody>\n",
       "</table>\n",
       "<p>432 rows × 1 columns</p>\n",
       "</div>"
      ],
      "text/plain": [
       "                                                                                                                                                                                                                                                                          tweet\n",
       "0    Kutip Kita tidak bertujuan menurunkan garis karena kalau menurunkan garis berarti mengurangi testing Jadi kita tingkatkan testingnya menjangkau orang orang tanpa gejala tapi positif Jadi tujuan kita adalah menurunkan wabahnya kata Gubernur DKI Jakarta Anies Baswedan\n",
       "1                                                                                                                               Anies Baswedan menyatakan pihaknya telah melakukan tes Covid 19 dengan metode polymerase chain reaction PCR kepada 299 439 orang BUMNKerjaCepat\n",
       "2                                                                                                                                                                                                                    Pokoknya kalau gak HRS ya anies baswedan yang selalu salah\n",
       "3                                                                                                                                                                                                                                    idha Barakallahu fiik bapak Anies Baswedan\n",
       "4                                                                                             Syukur nies Diisolasi dimana nies yg positif Coba lu tunjukkan data pasien positif jakarta dimana saja isolasinya Mana yg lu bilang sdh antisipasi sejak januari Dasar nasi aking\n",
       "..                                                                                                                                                                                                                                                                          ...\n",
       "427                                                                                                                                                                                                   Senyap kerjanya anyep hasilnya Anies Baswedan Kita Kerja Senyap dan Sunyi\n",
       "428                                                                                                                                                                 GABENER DAH BOSEN KONPERS DI PODIUM Anies Baswedan Kita Kerja Senyap dan Sunyi LEBIH JELAS HASILNYA daffa05\n",
       "429                                                                                                                                                                                                                                                   Mantul jiwa Tata kata nya\n",
       "430                                                                                                                                                                                   Kasus Positif Covid 19 Jakarta Nyaris 19 000 Orang Ini Tanggapan Anies Baswedan INDONESIA\n",
       "431                                                                                                                      Gubernur Anies Baswedan dan Pemprov dki jakarta dalam waktu dekat ini akan membantu para pelajar di DKI dengan memberikan mereka paket khusus internet\n",
       "\n",
       "[432 rows x 1 columns]"
      ]
     },
     "execution_count": 17,
     "metadata": {},
     "output_type": "execute_result"
    }
   ],
   "source": [
    "df2"
   ]
  },
  {
   "cell_type": "code",
   "execution_count": null,
   "metadata": {},
   "outputs": [],
   "source": []
  }
 ],
 "metadata": {
  "kernelspec": {
   "display_name": "Python 3",
   "language": "python",
   "name": "python3"
  },
  "language_info": {
   "codemirror_mode": {
    "name": "ipython",
    "version": 3
   },
   "file_extension": ".py",
   "mimetype": "text/x-python",
   "name": "python",
   "nbconvert_exporter": "python",
   "pygments_lexer": "ipython3",
   "version": "3.7.6"
  }
 },
 "nbformat": 4,
 "nbformat_minor": 4
}
