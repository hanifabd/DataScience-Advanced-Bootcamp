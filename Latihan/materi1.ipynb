{
 "cells": [
  {
   "cell_type": "code",
   "execution_count": 10,
   "metadata": {},
   "outputs": [],
   "source": [
    "from urllib.request import urlopen\n",
    "from bs4 import BeautifulSoup\n",
    "import pandas as pd"
   ]
  },
  {
   "cell_type": "code",
   "execution_count": 2,
   "metadata": {},
   "outputs": [],
   "source": [
    "alamat = 'https://blog.sanbercode.com'\n",
    "html = urlopen(alamat)\n",
    "data = BeautifulSoup(html, 'html.parser')"
   ]
  },
  {
   "cell_type": "code",
   "execution_count": 4,
   "metadata": {},
   "outputs": [],
   "source": [
    "items = data.findAll('a', {'class':'text-dark'})"
   ]
  },
  {
   "cell_type": "code",
   "execution_count": 5,
   "metadata": {},
   "outputs": [
    {
     "name": "stdout",
     "output_type": "stream",
     "text": [
      "[<a class=\"text-dark\" href=\"https://blog.sanbercode.com/mengenal-dunia-programming/\">\n",
      "                Mengenal dunia Programming</a>, <a class=\"text-dark\" href=\"https://blog.sanbercode.com/implementasi-debugging-tools-telescope-di-laravel/\">\n",
      "                Implementasi Debugging Tools Telescope di Laravel</a>, <a class=\"text-dark\" href=\"https://blog.sanbercode.com/facebook-login-tutorial-dengan-laravel-5-7-dan-socialite/\">\n",
      "                Facebook Login Tutorial dengan Laravel 5.7 dan Socialite</a>, <a class=\"text-dark\" href=\"https://blog.sanbercode.com/agile-software-development-sebuah-pengenalan/\">\n",
      "                Agile Software Development, Sebuah Pengenalan</a>, <a class=\"text-dark\" href=\"https://blog.sanbercode.com/knowledge-management-apa-sih/\">\n",
      "                Knowledge Management, Apa sih?</a>, <a class=\"text-dark\" href=\"https://blog.sanbercode.com/server-upload-file-ke-google-drive-via-command-line/\">\n",
      "                Server upload file ke google drive via command line</a>, <a class=\"text-dark\" href=\"https://blog.sanbercode.com/mockup-ui/\">\n",
      "                Mockup UI</a>, <a alt=\"View all posts in Backend\" class=\"text-dark\" href=\"https://blog.sanbercode.com/category/backend/\">Backend</a>, <a alt=\"View all posts in Devops\" class=\"text-dark\" href=\"https://blog.sanbercode.com/category/devops/\">Devops</a>, <a alt=\"View all posts in Frontend\" class=\"text-dark\" href=\"https://blog.sanbercode.com/category/frontend/\">Frontend</a>, <a alt=\"View all posts in Info\" class=\"text-dark\" href=\"https://blog.sanbercode.com/category/info/\">Info</a>, <a alt=\"View all posts in Management and Support\" class=\"text-dark\" href=\"https://blog.sanbercode.com/category/management-and-support/\">Management and Support</a>, <a class=\"text-dark\" href=\"https://blog.sanbercode.com/server-upload-file-ke-google-drive-via-command-line/\">\n",
      "                        Server upload file ke google drive via command line</a>, <a class=\"text-dark\" href=\"https://blog.sanbercode.com/telegram-notification-channel-via-laravel-5-8/\">\n",
      "                        Telegram Notification Channel via Laravel 5.8</a>, <a class=\"text-dark\" href=\"https://blog.sanbercode.com/mengenal-dunia-programming/\">\n",
      "                        Mengenal dunia Programming</a>, <a class=\"text-dark\" href=\"https://blog.sanbercode.com/mockup-ui/\">\n",
      "                        Mockup UI</a>, <a class=\"text-dark\" href=\"https://blog.sanbercode.com/knowledge-management-apa-sih/\">\n",
      "                        Knowledge Management, Apa sih?</a>]\n"
     ]
    }
   ],
   "source": [
    "print(items)"
   ]
  },
  {
   "cell_type": "code",
   "execution_count": 6,
   "metadata": {},
   "outputs": [
    {
     "name": "stdout",
     "output_type": "stream",
     "text": [
      "17\n"
     ]
    }
   ],
   "source": [
    "print(len(items))"
   ]
  },
  {
   "cell_type": "code",
   "execution_count": 7,
   "metadata": {},
   "outputs": [],
   "source": [
    "item = data.findAll('a', {'class':'text-dark'})[0]"
   ]
  },
  {
   "cell_type": "code",
   "execution_count": 8,
   "metadata": {},
   "outputs": [
    {
     "name": "stdout",
     "output_type": "stream",
     "text": [
      "<a class=\"text-dark\" href=\"https://blog.sanbercode.com/mengenal-dunia-programming/\">\n",
      "                Mengenal dunia Programming</a>\n"
     ]
    }
   ],
   "source": [
    "print(item)"
   ]
  },
  {
   "cell_type": "code",
   "execution_count": 9,
   "metadata": {},
   "outputs": [
    {
     "name": "stdout",
     "output_type": "stream",
     "text": [
      "\n",
      "                Mengenal dunia Programming\n"
     ]
    }
   ],
   "source": [
    "item_text = item.get_text()\n",
    "print(item_text)"
   ]
  }
 ],
 "metadata": {
  "kernelspec": {
   "display_name": "Python 3",
   "language": "python",
   "name": "python3"
  },
  "language_info": {
   "codemirror_mode": {
    "name": "ipython",
    "version": 3
   },
   "file_extension": ".py",
   "mimetype": "text/x-python",
   "name": "python",
   "nbconvert_exporter": "python",
   "pygments_lexer": "ipython3",
   "version": "3.7.6"
  }
 },
 "nbformat": 4,
 "nbformat_minor": 4
}
