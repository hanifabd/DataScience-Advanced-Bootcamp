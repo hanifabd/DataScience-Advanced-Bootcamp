{
 "cells": [
  {
   "cell_type": "code",
   "execution_count": 13,
   "metadata": {},
   "outputs": [],
   "source": [
    "import tweepy as tp\n",
    "import re\n",
    "import pandas as pd\n",
    "import numpy as np\n",
    "import json"
   ]
  },
  {
   "cell_type": "code",
   "execution_count": 14,
   "metadata": {},
   "outputs": [],
   "source": [
    "consumer_key = 'j1VsZaslNxU4978Pp6jAkV2PN'\n",
    "consumer_secret = 'xs6ioeVJkNYufA5Ikv0230XOzc41XfesqVkm6wFKnQHLM1Ap6l'\n",
    "access_token = '1288033810722852869-VW5EkoSgqqkz0ShEtfig6r9sDgnUnN'\n",
    "access_token_secret = 'QErxvrAscRl70QJOU5ORlMctbWsMecBRoYMppFzmlpBc2'"
   ]
  },
  {
   "cell_type": "code",
   "execution_count": 15,
   "metadata": {},
   "outputs": [],
   "source": [
    "auth = tp.OAuthHandler(consumer_key, consumer_secret)\n",
    "auth.set_access_token(access_token, access_token_secret)\n",
    "api = tp.API(auth)"
   ]
  },
  {
   "cell_type": "code",
   "execution_count": 16,
   "metadata": {},
   "outputs": [],
   "source": [
    "tweets = api.lookup_users(screen_names='Kompas.com')"
   ]
  },
  {
   "cell_type": "code",
   "execution_count": 17,
   "metadata": {},
   "outputs": [
    {
     "data": {
      "text/plain": [
       "[User(_api=<tweepy.api.API object at 0x000001CF2ECE2E88>, _json={'id': 11222, 'id_str': '11222', 'name': 'Kevin Cheng (kev/null)', 'screen_name': 'k', 'location': 'YVR✈️️HKG✈️️AUS✈️️LHR✈️️SFO', 'description': '⚓/ Product Leader / Storyteller / Designer / DJ & Producer / Space Cowboy / Doodler. Was @indeed Made @incrediblelabs, #newtwitter, @okcancel, @yahoopipes', 'url': 'https://t.co/ycxch0zCRE', 'entities': {'url': {'urls': [{'url': 'https://t.co/ycxch0zCRE', 'expanded_url': 'http://kevnull.com', 'display_url': 'kevnull.com', 'indices': [0, 23]}]}, 'description': {'urls': []}}, 'protected': False, 'followers_count': 57290, 'friends_count': 1598, 'listed_count': 1481, 'created_at': 'Wed Nov 01 00:12:06 +0000 2006', 'favourites_count': 7246, 'utc_offset': None, 'time_zone': None, 'geo_enabled': True, 'verified': False, 'statuses_count': 11091, 'lang': None, 'status': {'created_at': 'Sat Aug 01 04:21:03 +0000 2020', 'id': 1289415826982895616, 'id_str': '1289415826982895616', 'text': '@sippey No hockey tho', 'truncated': False, 'entities': {'hashtags': [], 'symbols': [], 'user_mentions': [{'screen_name': 'sippey', 'name': 'Michael Sippey', 'id': 4711, 'id_str': '4711', 'indices': [0, 7]}], 'urls': []}, 'source': '<a href=\"http://twitter.com/download/iphone\" rel=\"nofollow\">Twitter for iPhone</a>', 'in_reply_to_status_id': 1289076290499223554, 'in_reply_to_status_id_str': '1289076290499223554', 'in_reply_to_user_id': 4711, 'in_reply_to_user_id_str': '4711', 'in_reply_to_screen_name': 'sippey', 'geo': None, 'coordinates': None, 'place': None, 'contributors': None, 'is_quote_status': False, 'retweet_count': 0, 'favorite_count': 1, 'favorited': False, 'retweeted': False, 'lang': 'en'}, 'contributors_enabled': False, 'is_translator': False, 'is_translation_enabled': False, 'profile_background_color': '131516', 'profile_background_image_url': 'http://abs.twimg.com/images/themes/theme14/bg.gif', 'profile_background_image_url_https': 'https://abs.twimg.com/images/themes/theme14/bg.gif', 'profile_background_tile': True, 'profile_image_url': 'http://pbs.twimg.com/profile_images/1218053987796078592/qhRXk9D4_normal.jpg', 'profile_image_url_https': 'https://pbs.twimg.com/profile_images/1218053987796078592/qhRXk9D4_normal.jpg', 'profile_banner_url': 'https://pbs.twimg.com/profile_banners/11222/1591133734', 'profile_link_color': '007DEF', 'profile_sidebar_border_color': 'FFFFFF', 'profile_sidebar_fill_color': 'EFEFEF', 'profile_text_color': '333333', 'profile_use_background_image': True, 'has_extended_profile': False, 'default_profile': False, 'default_profile_image': False, 'following': False, 'follow_request_sent': False, 'notifications': False, 'translator_type': 'regular'}, id=11222, id_str='11222', name='Kevin Cheng (kev/null)', screen_name='k', location='YVR✈️️HKG✈️️AUS✈️️LHR✈️️SFO', description='⚓/ Product Leader / Storyteller / Designer / DJ & Producer / Space Cowboy / Doodler. Was @indeed Made @incrediblelabs, #newtwitter, @okcancel, @yahoopipes', url='https://t.co/ycxch0zCRE', entities={'url': {'urls': [{'url': 'https://t.co/ycxch0zCRE', 'expanded_url': 'http://kevnull.com', 'display_url': 'kevnull.com', 'indices': [0, 23]}]}, 'description': {'urls': []}}, protected=False, followers_count=57290, friends_count=1598, listed_count=1481, created_at=datetime.datetime(2006, 11, 1, 0, 12, 6), favourites_count=7246, utc_offset=None, time_zone=None, geo_enabled=True, verified=False, statuses_count=11091, lang=None, status=Status(_api=<tweepy.api.API object at 0x000001CF2ECE2E88>, _json={'created_at': 'Sat Aug 01 04:21:03 +0000 2020', 'id': 1289415826982895616, 'id_str': '1289415826982895616', 'text': '@sippey No hockey tho', 'truncated': False, 'entities': {'hashtags': [], 'symbols': [], 'user_mentions': [{'screen_name': 'sippey', 'name': 'Michael Sippey', 'id': 4711, 'id_str': '4711', 'indices': [0, 7]}], 'urls': []}, 'source': '<a href=\"http://twitter.com/download/iphone\" rel=\"nofollow\">Twitter for iPhone</a>', 'in_reply_to_status_id': 1289076290499223554, 'in_reply_to_status_id_str': '1289076290499223554', 'in_reply_to_user_id': 4711, 'in_reply_to_user_id_str': '4711', 'in_reply_to_screen_name': 'sippey', 'geo': None, 'coordinates': None, 'place': None, 'contributors': None, 'is_quote_status': False, 'retweet_count': 0, 'favorite_count': 1, 'favorited': False, 'retweeted': False, 'lang': 'en'}, created_at=datetime.datetime(2020, 8, 1, 4, 21, 3), id=1289415826982895616, id_str='1289415826982895616', text='@sippey No hockey tho', truncated=False, entities={'hashtags': [], 'symbols': [], 'user_mentions': [{'screen_name': 'sippey', 'name': 'Michael Sippey', 'id': 4711, 'id_str': '4711', 'indices': [0, 7]}], 'urls': []}, source='Twitter for iPhone', source_url='http://twitter.com/download/iphone', in_reply_to_status_id=1289076290499223554, in_reply_to_status_id_str='1289076290499223554', in_reply_to_user_id=4711, in_reply_to_user_id_str='4711', in_reply_to_screen_name='sippey', geo=None, coordinates=None, place=None, contributors=None, is_quote_status=False, retweet_count=0, favorite_count=1, favorited=False, retweeted=False, lang='en'), contributors_enabled=False, is_translator=False, is_translation_enabled=False, profile_background_color='131516', profile_background_image_url='http://abs.twimg.com/images/themes/theme14/bg.gif', profile_background_image_url_https='https://abs.twimg.com/images/themes/theme14/bg.gif', profile_background_tile=True, profile_image_url='http://pbs.twimg.com/profile_images/1218053987796078592/qhRXk9D4_normal.jpg', profile_image_url_https='https://pbs.twimg.com/profile_images/1218053987796078592/qhRXk9D4_normal.jpg', profile_banner_url='https://pbs.twimg.com/profile_banners/11222/1591133734', profile_link_color='007DEF', profile_sidebar_border_color='FFFFFF', profile_sidebar_fill_color='EFEFEF', profile_text_color='333333', profile_use_background_image=True, has_extended_profile=False, default_profile=False, default_profile_image=False, following=False, follow_request_sent=False, notifications=False, translator_type='regular'),\n",
       " User(_api=<tweepy.api.API object at 0x000001CF2ECE2E88>, _json={'id': 940631, 'id_str': '940631', 'name': 'Andrei Zmievski', 'screen_name': 'a', 'location': 'Austin, TX', 'description': 'Coder, photographer, relentless traveler, beer judge, Russian', 'url': None, 'entities': {'description': {'urls': []}}, 'protected': False, 'followers_count': 140213, 'friends_count': 302, 'listed_count': 1941, 'created_at': 'Sun Mar 11 18:05:57 +0000 2007', 'favourites_count': 758, 'utc_offset': None, 'time_zone': None, 'geo_enabled': False, 'verified': False, 'statuses_count': 14776, 'lang': None, 'status': {'created_at': 'Thu Jul 30 19:54:16 +0000 2020', 'id': 1288925900243783681, 'id_str': '1288925900243783681', 'text': 'Why not, 2020 has been too easy of a level so far. https://t.co/W2itlNh8jZ', 'truncated': False, 'entities': {'hashtags': [], 'symbols': [], 'user_mentions': [], 'urls': [{'url': 'https://t.co/W2itlNh8jZ', 'expanded_url': 'https://twitter.com/GurneyJourney/status/1288619334106062851', 'display_url': 'twitter.com/GurneyJourney/…', 'indices': [51, 74]}]}, 'source': '<a href=\"https://mobile.twitter.com\" rel=\"nofollow\">Twitter Web App</a>', 'in_reply_to_status_id': None, 'in_reply_to_status_id_str': None, 'in_reply_to_user_id': None, 'in_reply_to_user_id_str': None, 'in_reply_to_screen_name': None, 'geo': None, 'coordinates': None, 'place': None, 'contributors': None, 'is_quote_status': True, 'quoted_status_id': 1288619334106062851, 'quoted_status_id_str': '1288619334106062851', 'retweet_count': 1, 'favorite_count': 5, 'favorited': False, 'retweeted': False, 'possibly_sensitive': False, 'lang': 'en'}, 'contributors_enabled': False, 'is_translator': False, 'is_translation_enabled': False, 'profile_background_color': '170F00', 'profile_background_image_url': 'http://abs.twimg.com/images/themes/theme1/bg.png', 'profile_background_image_url_https': 'https://abs.twimg.com/images/themes/theme1/bg.png', 'profile_background_tile': False, 'profile_image_url': 'http://pbs.twimg.com/profile_images/448301181324894208/vqY_gIaL_normal.jpeg', 'profile_image_url_https': 'https://pbs.twimg.com/profile_images/448301181324894208/vqY_gIaL_normal.jpeg', 'profile_link_color': 'A04521', 'profile_sidebar_border_color': 'E6AA51', 'profile_sidebar_fill_color': 'E6AA51', 'profile_text_color': '170F00', 'profile_use_background_image': True, 'has_extended_profile': False, 'default_profile': False, 'default_profile_image': False, 'following': False, 'follow_request_sent': False, 'notifications': False, 'translator_type': 'regular'}, id=940631, id_str='940631', name='Andrei Zmievski', screen_name='a', location='Austin, TX', description='Coder, photographer, relentless traveler, beer judge, Russian', url=None, entities={'description': {'urls': []}}, protected=False, followers_count=140213, friends_count=302, listed_count=1941, created_at=datetime.datetime(2007, 3, 11, 18, 5, 57), favourites_count=758, utc_offset=None, time_zone=None, geo_enabled=False, verified=False, statuses_count=14776, lang=None, status=Status(_api=<tweepy.api.API object at 0x000001CF2ECE2E88>, _json={'created_at': 'Thu Jul 30 19:54:16 +0000 2020', 'id': 1288925900243783681, 'id_str': '1288925900243783681', 'text': 'Why not, 2020 has been too easy of a level so far. https://t.co/W2itlNh8jZ', 'truncated': False, 'entities': {'hashtags': [], 'symbols': [], 'user_mentions': [], 'urls': [{'url': 'https://t.co/W2itlNh8jZ', 'expanded_url': 'https://twitter.com/GurneyJourney/status/1288619334106062851', 'display_url': 'twitter.com/GurneyJourney/…', 'indices': [51, 74]}]}, 'source': '<a href=\"https://mobile.twitter.com\" rel=\"nofollow\">Twitter Web App</a>', 'in_reply_to_status_id': None, 'in_reply_to_status_id_str': None, 'in_reply_to_user_id': None, 'in_reply_to_user_id_str': None, 'in_reply_to_screen_name': None, 'geo': None, 'coordinates': None, 'place': None, 'contributors': None, 'is_quote_status': True, 'quoted_status_id': 1288619334106062851, 'quoted_status_id_str': '1288619334106062851', 'retweet_count': 1, 'favorite_count': 5, 'favorited': False, 'retweeted': False, 'possibly_sensitive': False, 'lang': 'en'}, created_at=datetime.datetime(2020, 7, 30, 19, 54, 16), id=1288925900243783681, id_str='1288925900243783681', text='Why not, 2020 has been too easy of a level so far. https://t.co/W2itlNh8jZ', truncated=False, entities={'hashtags': [], 'symbols': [], 'user_mentions': [], 'urls': [{'url': 'https://t.co/W2itlNh8jZ', 'expanded_url': 'https://twitter.com/GurneyJourney/status/1288619334106062851', 'display_url': 'twitter.com/GurneyJourney/…', 'indices': [51, 74]}]}, source='Twitter Web App', source_url='https://mobile.twitter.com', in_reply_to_status_id=None, in_reply_to_status_id_str=None, in_reply_to_user_id=None, in_reply_to_user_id_str=None, in_reply_to_screen_name=None, geo=None, coordinates=None, place=None, contributors=None, is_quote_status=True, quoted_status_id=1288619334106062851, quoted_status_id_str='1288619334106062851', retweet_count=1, favorite_count=5, favorited=False, retweeted=False, possibly_sensitive=False, lang='en'), contributors_enabled=False, is_translator=False, is_translation_enabled=False, profile_background_color='170F00', profile_background_image_url='http://abs.twimg.com/images/themes/theme1/bg.png', profile_background_image_url_https='https://abs.twimg.com/images/themes/theme1/bg.png', profile_background_tile=False, profile_image_url='http://pbs.twimg.com/profile_images/448301181324894208/vqY_gIaL_normal.jpeg', profile_image_url_https='https://pbs.twimg.com/profile_images/448301181324894208/vqY_gIaL_normal.jpeg', profile_link_color='A04521', profile_sidebar_border_color='E6AA51', profile_sidebar_fill_color='E6AA51', profile_text_color='170F00', profile_use_background_image=True, has_extended_profile=False, default_profile=False, default_profile_image=False, following=False, follow_request_sent=False, notifications=False, translator_type='regular'),\n",
       " User(_api=<tweepy.api.API object at 0x000001CF2ECE2E88>, _json={'id': 347002675, 'id_str': '347002675', 'name': 'Seriously!', 'screen_name': 's', 'location': '', 'description': '¯\\\\_(ツ)_/¯', 'url': None, 'entities': {'description': {'urls': []}}, 'protected': False, 'followers_count': 89697, 'friends_count': 14, 'listed_count': 1029, 'created_at': 'Tue Aug 02 04:17:30 +0000 2011', 'favourites_count': 143, 'utc_offset': None, 'time_zone': None, 'geo_enabled': False, 'verified': False, 'statuses_count': 301, 'lang': None, 'status': {'created_at': 'Fri Jul 31 20:37:13 +0000 2020', 'id': 1289299099192143872, 'id_str': '1289299099192143872', 'text': \"RT @yo: Apple should buy TikTok \\n\\n🎵 Owns Apple Music\\n📸 Loves to show off the iPhone's camera\\n🔒 Values user Privacy (biggest issue w/ TikTok…\", 'truncated': False, 'entities': {'hashtags': [], 'symbols': [], 'user_mentions': [{'screen_name': 'yo', 'name': 'Troy Osinoff', 'id': 16482279, 'id_str': '16482279', 'indices': [3, 6]}], 'urls': []}, 'source': '<a href=\"http://twitter.com/download/iphone\" rel=\"nofollow\">Twitter for iPhone</a>', 'in_reply_to_status_id': None, 'in_reply_to_status_id_str': None, 'in_reply_to_user_id': None, 'in_reply_to_user_id_str': None, 'in_reply_to_screen_name': None, 'geo': None, 'coordinates': None, 'place': None, 'contributors': None, 'retweeted_status': {'created_at': 'Fri Jul 31 20:35:55 +0000 2020', 'id': 1289298772074217478, 'id_str': '1289298772074217478', 'text': \"Apple should buy TikTok \\n\\n🎵 Owns Apple Music\\n📸 Loves to show off the iPhone's camera\\n🔒 Values user Privacy (biggest… https://t.co/h35RHfcwce\", 'truncated': True, 'entities': {'hashtags': [], 'symbols': [], 'user_mentions': [], 'urls': [{'url': 'https://t.co/h35RHfcwce', 'expanded_url': 'https://twitter.com/i/web/status/1289298772074217478', 'display_url': 'twitter.com/i/web/status/1…', 'indices': [117, 140]}]}, 'source': '<a href=\"https://mobile.twitter.com\" rel=\"nofollow\">Twitter Web App</a>', 'in_reply_to_status_id': None, 'in_reply_to_status_id_str': None, 'in_reply_to_user_id': None, 'in_reply_to_user_id_str': None, 'in_reply_to_screen_name': None, 'geo': None, 'coordinates': None, 'place': None, 'contributors': None, 'is_quote_status': False, 'retweet_count': 5, 'favorite_count': 69, 'favorited': False, 'retweeted': False, 'lang': 'en'}, 'is_quote_status': False, 'retweet_count': 5, 'favorite_count': 0, 'favorited': False, 'retweeted': False, 'lang': 'en'}, 'contributors_enabled': False, 'is_translator': False, 'is_translation_enabled': False, 'profile_background_color': 'C0DEED', 'profile_background_image_url': 'http://abs.twimg.com/images/themes/theme1/bg.png', 'profile_background_image_url_https': 'https://abs.twimg.com/images/themes/theme1/bg.png', 'profile_background_tile': False, 'profile_image_url': 'http://pbs.twimg.com/profile_images/813056632250925057/t-DDGecT_normal.jpg', 'profile_image_url_https': 'https://pbs.twimg.com/profile_images/813056632250925057/t-DDGecT_normal.jpg', 'profile_banner_url': 'https://pbs.twimg.com/profile_banners/347002675/1450187379', 'profile_link_color': '0084B4', 'profile_sidebar_border_color': '000000', 'profile_sidebar_fill_color': 'FFBF00', 'profile_text_color': '333333', 'profile_use_background_image': False, 'has_extended_profile': False, 'default_profile': False, 'default_profile_image': False, 'following': False, 'follow_request_sent': False, 'notifications': False, 'translator_type': 'regular'}, id=347002675, id_str='347002675', name='Seriously!', screen_name='s', location='', description='¯\\\\_(ツ)_/¯', url=None, entities={'description': {'urls': []}}, protected=False, followers_count=89697, friends_count=14, listed_count=1029, created_at=datetime.datetime(2011, 8, 2, 4, 17, 30), favourites_count=143, utc_offset=None, time_zone=None, geo_enabled=False, verified=False, statuses_count=301, lang=None, status=Status(_api=<tweepy.api.API object at 0x000001CF2ECE2E88>, _json={'created_at': 'Fri Jul 31 20:37:13 +0000 2020', 'id': 1289299099192143872, 'id_str': '1289299099192143872', 'text': \"RT @yo: Apple should buy TikTok \\n\\n🎵 Owns Apple Music\\n📸 Loves to show off the iPhone's camera\\n🔒 Values user Privacy (biggest issue w/ TikTok…\", 'truncated': False, 'entities': {'hashtags': [], 'symbols': [], 'user_mentions': [{'screen_name': 'yo', 'name': 'Troy Osinoff', 'id': 16482279, 'id_str': '16482279', 'indices': [3, 6]}], 'urls': []}, 'source': '<a href=\"http://twitter.com/download/iphone\" rel=\"nofollow\">Twitter for iPhone</a>', 'in_reply_to_status_id': None, 'in_reply_to_status_id_str': None, 'in_reply_to_user_id': None, 'in_reply_to_user_id_str': None, 'in_reply_to_screen_name': None, 'geo': None, 'coordinates': None, 'place': None, 'contributors': None, 'retweeted_status': {'created_at': 'Fri Jul 31 20:35:55 +0000 2020', 'id': 1289298772074217478, 'id_str': '1289298772074217478', 'text': \"Apple should buy TikTok \\n\\n🎵 Owns Apple Music\\n📸 Loves to show off the iPhone's camera\\n🔒 Values user Privacy (biggest… https://t.co/h35RHfcwce\", 'truncated': True, 'entities': {'hashtags': [], 'symbols': [], 'user_mentions': [], 'urls': [{'url': 'https://t.co/h35RHfcwce', 'expanded_url': 'https://twitter.com/i/web/status/1289298772074217478', 'display_url': 'twitter.com/i/web/status/1…', 'indices': [117, 140]}]}, 'source': '<a href=\"https://mobile.twitter.com\" rel=\"nofollow\">Twitter Web App</a>', 'in_reply_to_status_id': None, 'in_reply_to_status_id_str': None, 'in_reply_to_user_id': None, 'in_reply_to_user_id_str': None, 'in_reply_to_screen_name': None, 'geo': None, 'coordinates': None, 'place': None, 'contributors': None, 'is_quote_status': False, 'retweet_count': 5, 'favorite_count': 69, 'favorited': False, 'retweeted': False, 'lang': 'en'}, 'is_quote_status': False, 'retweet_count': 5, 'favorite_count': 0, 'favorited': False, 'retweeted': False, 'lang': 'en'}, created_at=datetime.datetime(2020, 7, 31, 20, 37, 13), id=1289299099192143872, id_str='1289299099192143872', text=\"RT @yo: Apple should buy TikTok \\n\\n🎵 Owns Apple Music\\n📸 Loves to show off the iPhone's camera\\n🔒 Values user Privacy (biggest issue w/ TikTok…\", truncated=False, entities={'hashtags': [], 'symbols': [], 'user_mentions': [{'screen_name': 'yo', 'name': 'Troy Osinoff', 'id': 16482279, 'id_str': '16482279', 'indices': [3, 6]}], 'urls': []}, source='Twitter for iPhone', source_url='http://twitter.com/download/iphone', in_reply_to_status_id=None, in_reply_to_status_id_str=None, in_reply_to_user_id=None, in_reply_to_user_id_str=None, in_reply_to_screen_name=None, geo=None, coordinates=None, place=None, contributors=None, retweeted_status=Status(_api=<tweepy.api.API object at 0x000001CF2ECE2E88>, _json={'created_at': 'Fri Jul 31 20:35:55 +0000 2020', 'id': 1289298772074217478, 'id_str': '1289298772074217478', 'text': \"Apple should buy TikTok \\n\\n🎵 Owns Apple Music\\n📸 Loves to show off the iPhone's camera\\n🔒 Values user Privacy (biggest… https://t.co/h35RHfcwce\", 'truncated': True, 'entities': {'hashtags': [], 'symbols': [], 'user_mentions': [], 'urls': [{'url': 'https://t.co/h35RHfcwce', 'expanded_url': 'https://twitter.com/i/web/status/1289298772074217478', 'display_url': 'twitter.com/i/web/status/1…', 'indices': [117, 140]}]}, 'source': '<a href=\"https://mobile.twitter.com\" rel=\"nofollow\">Twitter Web App</a>', 'in_reply_to_status_id': None, 'in_reply_to_status_id_str': None, 'in_reply_to_user_id': None, 'in_reply_to_user_id_str': None, 'in_reply_to_screen_name': None, 'geo': None, 'coordinates': None, 'place': None, 'contributors': None, 'is_quote_status': False, 'retweet_count': 5, 'favorite_count': 69, 'favorited': False, 'retweeted': False, 'lang': 'en'}, created_at=datetime.datetime(2020, 7, 31, 20, 35, 55), id=1289298772074217478, id_str='1289298772074217478', text=\"Apple should buy TikTok \\n\\n🎵 Owns Apple Music\\n📸 Loves to show off the iPhone's camera\\n🔒 Values user Privacy (biggest… https://t.co/h35RHfcwce\", truncated=True, entities={'hashtags': [], 'symbols': [], 'user_mentions': [], 'urls': [{'url': 'https://t.co/h35RHfcwce', 'expanded_url': 'https://twitter.com/i/web/status/1289298772074217478', 'display_url': 'twitter.com/i/web/status/1…', 'indices': [117, 140]}]}, source='Twitter Web App', source_url='https://mobile.twitter.com', in_reply_to_status_id=None, in_reply_to_status_id_str=None, in_reply_to_user_id=None, in_reply_to_user_id_str=None, in_reply_to_screen_name=None, geo=None, coordinates=None, place=None, contributors=None, is_quote_status=False, retweet_count=5, favorite_count=69, favorited=False, retweeted=False, lang='en'), is_quote_status=False, retweet_count=5, favorite_count=0, favorited=False, retweeted=False, lang='en'), contributors_enabled=False, is_translator=False, is_translation_enabled=False, profile_background_color='C0DEED', profile_background_image_url='http://abs.twimg.com/images/themes/theme1/bg.png', profile_background_image_url_https='https://abs.twimg.com/images/themes/theme1/bg.png', profile_background_tile=False, profile_image_url='http://pbs.twimg.com/profile_images/813056632250925057/t-DDGecT_normal.jpg', profile_image_url_https='https://pbs.twimg.com/profile_images/813056632250925057/t-DDGecT_normal.jpg', profile_banner_url='https://pbs.twimg.com/profile_banners/347002675/1450187379', profile_link_color='0084B4', profile_sidebar_border_color='000000', profile_sidebar_fill_color='FFBF00', profile_text_color='333333', profile_use_background_image=False, has_extended_profile=False, default_profile=False, default_profile_image=False, following=False, follow_request_sent=False, notifications=False, translator_type='regular')]"
      ]
     },
     "execution_count": 17,
     "metadata": {},
     "output_type": "execute_result"
    }
   ],
   "source": [
    "tweets"
   ]
  },
  {
   "cell_type": "code",
   "execution_count": 1,
   "metadata": {},
   "outputs": [],
   "source": [
    "import tweepy as tp\n",
    "import re\n",
    "import pandas as pd\n",
    "import numpy as np\n",
    "import json"
   ]
  },
  {
   "cell_type": "code",
   "execution_count": 2,
   "metadata": {},
   "outputs": [],
   "source": [
    "consumer_key = 'j1VsZaslNxU4978Pp6jAkV2PN'\n",
    "consumer_secret = 'xs6ioeVJkNYufA5Ikv0230XOzc41XfesqVkm6wFKnQHLM1Ap6l'\n",
    "access_token = '1288033810722852869-VW5EkoSgqqkz0ShEtfig6r9sDgnUnN'\n",
    "access_token_secret = 'QErxvrAscRl70QJOU5ORlMctbWsMecBRoYMppFzmlpBc2'"
   ]
  },
  {
   "cell_type": "code",
   "execution_count": 3,
   "metadata": {},
   "outputs": [],
   "source": [
    "auth = tp.OAuthHandler(consumer_key, consumer_secret)\n",
    "auth.set_access_token(access_token, access_token_secret)\n",
    "api = tp.API(auth)"
   ]
  },
  {
   "cell_type": "code",
   "execution_count": 4,
   "metadata": {},
   "outputs": [],
   "source": [
    "mytimeline = api.home_timeline()"
   ]
  },
  {
   "cell_type": "code",
   "execution_count": 5,
   "metadata": {},
   "outputs": [],
   "source": [
    "for tweet in mytimeline:\n",
    "    print(tweet.text)"
   ]
  }
 ],
 "metadata": {
  "kernelspec": {
   "display_name": "Python 3",
   "language": "python",
   "name": "python3"
  },
  "language_info": {
   "codemirror_mode": {
    "name": "ipython",
    "version": 3
   },
   "file_extension": ".py",
   "mimetype": "text/x-python",
   "name": "python",
   "nbconvert_exporter": "python",
   "pygments_lexer": "ipython3",
   "version": "3.7.6"
  }
 },
 "nbformat": 4,
 "nbformat_minor": 4
}
