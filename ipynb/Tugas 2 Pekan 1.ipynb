{
 "cells": [
  {
   "cell_type": "code",
   "execution_count": 2,
   "metadata": {},
   "outputs": [],
   "source": [
    "from urllib.request import urlopen\n",
    "from bs4 import BeautifulSoup as bs"
   ]
  },
  {
   "cell_type": "code",
   "execution_count": 3,
   "metadata": {},
   "outputs": [],
   "source": [
    "alamat = 'https://blog.sanbercode.com/'\n",
    "html = urlopen(alamat)\n",
    "data = bs(html)"
   ]
  },
  {
   "cell_type": "code",
   "execution_count": 4,
   "metadata": {},
   "outputs": [
    {
     "name": "stdout",
     "output_type": "stream",
     "text": [
      "<div class=\"col-sm-12 col-md-4 col-xl-4\">\n",
      " <div class=\"mt-3 mt-md-0 mb-3 d-flex post_box_style3\">\n",
      "  <div class=\"col-4 col-md-4 pl-0\">\n",
      "   <a href=\"https://blog.sanbercode.com/implementasi-debugging-tools-telescope-di-laravel/\">\n",
      "    <img alt=\"\" class=\"attachment-postbox-style3 size-postbox-style3 wp-post-image\" height=\"147\" src=\"https://blog.sanbercode.com/wp-content/uploads/2020/05/maxresdefault-168x147.jpg\" width=\"168\"/>\n",
      "   </a>\n",
      "  </div>\n",
      "  <div>\n",
      "   <h2 class=\"mb-2 h6\">\n",
      "    <a class=\"text-dark\" href=\"https://blog.sanbercode.com/implementasi-debugging-tools-telescope-di-laravel/\">\n",
      "     Implementasi Debugging Tools Telescope di Laravel\n",
      "    </a>\n",
      "   </h2>\n",
      "   <div>\n",
      "    <small class=\"d-block text-muted\">\n",
      "     <a class=\"text-muted text-capitalize\" href=\"https://blog.sanbercode.com/author/iqbalsyahrulsiddiq/\">\n",
      "      Iqbal Syahrul Siddiq\n",
      "     </a>\n",
      "     in\n",
      "     <span class=\"thecatlinks text-dark\">\n",
      "      <a href=\"https://blog.sanbercode.com/category/backend/\" rel=\"category tag\">\n",
      "       Backend\n",
      "      </a>\n",
      "     </span>\n",
      "    </small>\n",
      "    <small class=\"text-muted\">\n",
      "     Mei 8 ·\n",
      "                                                1 min read\n",
      "     <svg data-original-title=\"Updated Mei 10, 2020\" data-placement=\"top\" data-toggle=\"tooltip\" height=\"11\" style=\"fill: rgba(0,0,0,0.45); margin-left: 3px; margin-top: -2px; display: inline-block;\" title=\"\" viewbox=\"0 0 24 24\" width=\"11\" xmlns=\"http://www.w3.org/2000/svg\">\n",
      "      &gt;\n",
      "      <path d=\"M12 .288l2.833 8.718h9.167l-7.417 5.389 2.833 8.718-7.416-5.388-7.417 5.388 2.833-8.718-7.416-5.389h9.167z\">\n",
      "      </path>\n",
      "     </svg>\n",
      "    </small>\n",
      "   </div>\n",
      "  </div>\n",
      " </div>\n",
      " <div class=\"mt-3 mt-md-0 mb-3 d-flex post_box_style3\">\n",
      "  <div class=\"col-4 col-md-4 pl-0\">\n",
      "   <a href=\"https://blog.sanbercode.com/facebook-login-tutorial-dengan-laravel-5-7-dan-socialite/\">\n",
      "    <img alt=\"\" class=\"attachment-postbox-style3 size-postbox-style3 wp-post-image\" height=\"147\" src=\"https://blog.sanbercode.com/wp-content/uploads/2020/05/laravel-socialite-1-2-168x147.jpg\" width=\"168\"/>\n",
      "   </a>\n",
      "  </div>\n",
      "  <div>\n",
      "   <h2 class=\"mb-2 h6\">\n",
      "    <a class=\"text-dark\" href=\"https://blog.sanbercode.com/facebook-login-tutorial-dengan-laravel-5-7-dan-socialite/\">\n",
      "     Facebook Login Tutorial dengan Laravel 5.7 dan Socialite\n",
      "    </a>\n",
      "   </h2>\n",
      "   <div>\n",
      "    <small class=\"d-block text-muted\">\n",
      "     <a class=\"text-muted text-capitalize\" href=\"https://blog.sanbercode.com/author/iqbalsyahrulsiddiq/\">\n",
      "      Iqbal Syahrul Siddiq\n",
      "     </a>\n",
      "     in\n",
      "     <span class=\"thecatlinks text-dark\">\n",
      "      <a href=\"https://blog.sanbercode.com/category/backend/\" rel=\"category tag\">\n",
      "       Backend\n",
      "      </a>\n",
      "     </span>\n",
      "    </small>\n",
      "    <small class=\"text-muted\">\n",
      "     Mei 7 ·\n",
      "                                                4 min read\n",
      "     <svg data-original-title=\"Updated Mei 8, 2020\" data-placement=\"top\" data-toggle=\"tooltip\" height=\"11\" style=\"fill: rgba(0,0,0,0.45); margin-left: 3px; margin-top: -2px; display: inline-block;\" title=\"\" viewbox=\"0 0 24 24\" width=\"11\" xmlns=\"http://www.w3.org/2000/svg\">\n",
      "      &gt;\n",
      "      <path d=\"M12 .288l2.833 8.718h9.167l-7.417 5.389 2.833 8.718-7.416-5.388-7.417 5.388 2.833-8.718-7.416-5.389h9.167z\">\n",
      "      </path>\n",
      "     </svg>\n",
      "    </small>\n",
      "   </div>\n",
      "  </div>\n",
      " </div>\n",
      " <div class=\"mt-3 mt-md-0 mb-3 d-flex post_box_style3\">\n",
      "  <div class=\"col-4 col-md-4 pl-0\">\n",
      "   <a href=\"https://blog.sanbercode.com/agile-software-development-sebuah-pengenalan/\">\n",
      "    <img alt=\"\" class=\"attachment-postbox-style3 size-postbox-style3 wp-post-image\" height=\"147\" src=\"https://blog.sanbercode.com/wp-content/uploads/2020/04/post-it-4129907_1920-168x147.jpg\" width=\"168\"/>\n",
      "   </a>\n",
      "  </div>\n",
      "  <div>\n",
      "   <h2 class=\"mb-2 h6\">\n",
      "    <a class=\"text-dark\" href=\"https://blog.sanbercode.com/agile-software-development-sebuah-pengenalan/\">\n",
      "     Agile Software Development, Sebuah Pengenalan\n",
      "    </a>\n",
      "   </h2>\n",
      "   <div>\n",
      "    <small class=\"d-block text-muted\">\n",
      "     <a class=\"text-muted text-capitalize\" href=\"https://blog.sanbercode.com/author/jundijas/\">\n",
      "      Jundi Amir\n",
      "     </a>\n",
      "     in\n",
      "     <span class=\"thecatlinks text-dark\">\n",
      "      <a href=\"https://blog.sanbercode.com/category/management-and-support/\" rel=\"category tag\">\n",
      "       Management and Support\n",
      "      </a>\n",
      "     </span>\n",
      "    </small>\n",
      "    <small class=\"text-muted\">\n",
      "     Apr 22 ·\n",
      "                                                2 min read\n",
      "     <svg data-original-title=\"Updated Jun 6, 2020\" data-placement=\"top\" data-toggle=\"tooltip\" height=\"11\" style=\"fill: rgba(0,0,0,0.45); margin-left: 3px; margin-top: -2px; display: inline-block;\" title=\"\" viewbox=\"0 0 24 24\" width=\"11\" xmlns=\"http://www.w3.org/2000/svg\">\n",
      "      &gt;\n",
      "      <path d=\"M12 .288l2.833 8.718h9.167l-7.417 5.389 2.833 8.718-7.416-5.388-7.417 5.388 2.833-8.718-7.416-5.389h9.167z\">\n",
      "      </path>\n",
      "     </svg>\n",
      "    </small>\n",
      "   </div>\n",
      "  </div>\n",
      " </div>\n",
      "</div>\n",
      "\n"
     ]
    }
   ],
   "source": [
    "artikel = data.findAll('div', {'class':'col-sm-12'})[1]\n",
    "print(artikel.prettify())"
   ]
  },
  {
   "cell_type": "code",
   "execution_count": 5,
   "metadata": {},
   "outputs": [],
   "source": [
    "rows = artikel.findAll('div', {'class':'post_box_style3'})"
   ]
  },
  {
   "cell_type": "code",
   "execution_count": 6,
   "metadata": {},
   "outputs": [],
   "source": [
    "judul = []\n",
    "penulis = []\n",
    "for row in rows:\n",
    "    for cell in row.findAll('a', {'class':'text-dark'}):\n",
    "        judul.append(cell.get_text())\n",
    "    for cell in row.findAll('a', {'class':'text-muted'}):\n",
    "        penulis.append(cell.get_text())"
   ]
  },
  {
   "cell_type": "code",
   "execution_count": 8,
   "metadata": {},
   "outputs": [],
   "source": [
    "judul = [x.replace('\\n                ', '') for x in judul]\n",
    "penulis = [x.replace('\\n                    ', '') for x in penulis]"
   ]
  },
  {
   "cell_type": "code",
   "execution_count": 9,
   "metadata": {},
   "outputs": [
    {
     "name": "stdout",
     "output_type": "stream",
     "text": [
      "['Implementasi Debugging Tools Telescope di Laravel', 'Facebook Login Tutorial dengan Laravel 5.7 dan Socialite', 'Agile Software Development, Sebuah Pengenalan']\n",
      "['Iqbal Syahrul Siddiq', 'Iqbal Syahrul Siddiq', 'Jundi Amir']\n"
     ]
    }
   ],
   "source": [
    "print(judul)\n",
    "print(penulis)"
   ]
  }
 ],
 "metadata": {
  "kernelspec": {
   "display_name": "Python 3",
   "language": "python",
   "name": "python3"
  },
  "language_info": {
   "codemirror_mode": {
    "name": "ipython",
    "version": 3
   },
   "file_extension": ".py",
   "mimetype": "text/x-python",
   "name": "python",
   "nbconvert_exporter": "python",
   "pygments_lexer": "ipython3",
   "version": "3.7.6"
  }
 },
 "nbformat": 4,
 "nbformat_minor": 4
}
