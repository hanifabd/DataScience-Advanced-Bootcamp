{
 "cells": [
  {
   "cell_type": "code",
   "execution_count": 1,
   "metadata": {},
   "outputs": [],
   "source": [
    "import tweepy as tp"
   ]
  },
  {
   "cell_type": "code",
   "execution_count": 2,
   "metadata": {},
   "outputs": [],
   "source": [
    "consumer_key = '6aH6v6uUuv0Ab09Sdp3teOdXU'\n",
    "consumer_secret = 'WkI4qWwO2WTzPWrhZxMTUaGDCccqKAB3eKFJ059w56medPlmE6'\n",
    "access_token = '1288033810722852869-0iAGZXaA3ul1VaKGUXiqXTBP0wxBGz'\n",
    "access_token_secret = 'XBBKa8Yy7te2dnqmC8Yg7tdXe4otlnrS3JzigWDYYCQzi'"
   ]
  },
  {
   "cell_type": "code",
   "execution_count": 3,
   "metadata": {},
   "outputs": [],
   "source": [
    "auth = tp.OAuthHandler(consumer_key, consumer_secret)\n",
    "auth.set_access_token(access_token, access_token_secret)\n",
    "api = tp.API(auth)"
   ]
  },
  {
   "cell_type": "code",
   "execution_count": 10,
   "metadata": {},
   "outputs": [],
   "source": [
    "nama = \"jokowi\"\n",
    "jumlahtweet = 1\n",
    "\n",
    "hasil = api.user_timeline(id=nama, count=jumlahtweet, tweet_mode=\"extended\")"
   ]
  },
  {
   "cell_type": "code",
   "execution_count": 5,
   "metadata": {},
   "outputs": [],
   "source": [
    "def filter_data(text):\n",
    "    import re\n",
    "    import string\n",
    "    \n",
    "    text = text.strip() #remove empty char\n",
    "    text = text.lower() #to lowercase\n",
    "    text = re.sub(r\"\\d+\", \"\", text) #remove number\n",
    "    text = text.translate(str.maketrans('', '', string.punctuation)) #remove punctuation\n",
    "    text = ' '.join(re.sub(\"yang | akan | di | dan\", \" \", text).split()) #remove stopwords\n",
    "    \n",
    "    return text"
   ]
  },
  {
   "cell_type": "code",
   "execution_count": 11,
   "metadata": {
    "scrolled": true
   },
   "outputs": [
    {
     "name": "stdout",
     "output_type": "stream",
     "text": [
      "petang kemarin saya menyampaikan selamat iduladha kepada raja salman bin abdulazis al saud seluruh rakyat arab saudi juga rasa syukur bahwa baginda telah pulih dari sakit apresiasi saya atas penyelenggaraan ibadah haji tahun ini meski diadakan secara terbatas httpstcoidxfpbzlm\n"
     ]
    }
   ],
   "source": [
    "for tweet in hasil:\n",
    "    string = tweet.full_text\n",
    "    string = filter_data(string)\n",
    "    print(string)"
   ]
  },
  {
   "cell_type": "markdown",
   "metadata": {},
   "source": [
    "mengecilkan, menghilangkan tanda baca, angka, dsb) dan Stopword. Untuk Stopword hilangkan hanya 4 kata sambung (yang, akan, di, dan)"
   ]
  },
  {
   "cell_type": "code",
   "execution_count": 1,
   "metadata": {},
   "outputs": [],
   "source": []
  }
 ],
 "metadata": {
  "kernelspec": {
   "display_name": "Python 3",
   "language": "python",
   "name": "python3"
  },
  "language_info": {
   "codemirror_mode": {
    "name": "ipython",
    "version": 3
   },
   "file_extension": ".py",
   "mimetype": "text/x-python",
   "name": "python",
   "nbconvert_exporter": "python",
   "pygments_lexer": "ipython3",
   "version": "3.7.6"
  }
 },
 "nbformat": 4,
 "nbformat_minor": 4
}
